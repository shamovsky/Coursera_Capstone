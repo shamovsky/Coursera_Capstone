{
 "cells": [
  {
   "cell_type": "code",
   "execution_count": null,
   "metadata": {},
   "outputs": [],
   "source": [
    "import pandas as pd \n",
    "import numpy as np\n",
    "import json\n",
    "import requests \n",
    "from pandas.io.json import json_normalize \n",
    "import matplotlib as mpl\n",
    "import matplotlib.pyplot as plt\n",
    "import seaborn as sns\n",
    "import matplotlib.cm as cm\n",
    "import folium\n",
    "from folium.plugins import MarkerCluster\n",
    "from folium.plugins import FastMarkerCluster\n",
    "from folium import plugins\n",
    "from folium.plugins import HeatMap\n",
    "import matplotlib.colors as colors\n",
    "from sklearn.cluster import KMeans\n",
    "import warnings \n",
    "warnings.filterwarnings(\"ignore\")\n"
   ]
  },
  {
   "cell_type": "code",
   "execution_count": null,
   "metadata": {},
   "outputs": [],
   "source": [
    "arrest_data=pd.read_csv('NYPD_Arrest_Data__Year_to_Date_.csv')\n",
    "\n",
    "shots_data=pd.read_csv('NYPD_Shooting_Incident_Data__Year_To_Date_.csv')"
   ]
  },
  {
   "cell_type": "markdown",
   "metadata": {},
   "source": [
    "# Examining the Data visually"
   ]
  },
  {
   "cell_type": "code",
   "execution_count": null,
   "metadata": {},
   "outputs": [],
   "source": [
    "arrest_data.head()"
   ]
  },
  {
   "cell_type": "code",
   "execution_count": null,
   "metadata": {},
   "outputs": [],
   "source": [
    "shots_data.head()"
   ]
  },
  {
   "cell_type": "code",
   "execution_count": null,
   "metadata": {},
   "outputs": [],
   "source": [
    "lat_shots=list(shots_data.Latitude)\n",
    "lon_shots=list(shots_data.Longitude)"
   ]
  },
  {
   "cell_type": "markdown",
   "metadata": {},
   "source": [
    "## Filtering for crimes that are inflicted on another individual"
   ]
  },
  {
   "cell_type": "code",
   "execution_count": null,
   "metadata": {},
   "outputs": [],
   "source": [
    "#sorting for only assault, burglary,weapons, sexual abuse, larceny, bringing data size down to ~68k\n",
    "arrest_data=arrest_data.dropna()\n",
    "\n",
    "arrest_data=arrest_data[arrest_data[\"PD_DESC\"].str.contains('assault|theft|assault|burglary|weapons|sexual abuse|larceny',case=False)]\n",
    "arrestloc=arrest_data[['Latitude','Longitude']]\n",
    "shotsloc=shots_data[['Latitude','Longitude']]"
   ]
  },
  {
   "cell_type": "code",
   "execution_count": null,
   "metadata": {},
   "outputs": [],
   "source": []
  },
  {
   "cell_type": "code",
   "execution_count": null,
   "metadata": {},
   "outputs": [],
   "source": [
    "arrestloc=arrest_data[['OFNS_DESC','Latitude','Longitude']]\n",
    "arrestloc=arrestloc[:45000]\n",
    "heat = arrestloc\n",
    "data = heat.as_matrix(['Latitude','Longitude']).tolist()\n",
    "#datatst = heat.values[:,1:3].tolist()-- For some reason does not work to fix the error below"
   ]
  },
  {
   "cell_type": "code",
   "execution_count": null,
   "metadata": {},
   "outputs": [],
   "source": [
    "#Extract longitude and latidude\n",
    "import pygeoj\n",
    "latitude_sub=[]\n",
    "longitude_sub=[]\n",
    "names=[]\n",
    "lines=[]\n",
    "testfile = pygeoj.load(\"Subway Entrances.geojson\")\n",
    "for feature in testfile:\n",
    "    lines.append(feature.properties['line'])\n",
    "    names.append(feature.properties['name'])\n",
    "    latitude_sub.append(feature.geometry.coordinates[1])\n",
    "    longitude_sub.append(feature.geometry.coordinates[0])"
   ]
  },
  {
   "cell_type": "markdown",
   "metadata": {},
   "source": [
    "# Heatmap of NYC crime superimposed with subway entrances"
   ]
  },
  {
   "cell_type": "code",
   "execution_count": null,
   "metadata": {},
   "outputs": [],
   "source": [
    "latitude=40.7128\n",
    "longitude=-74.006\n",
    "map_ny = folium.Map(location=[latitude, longitude], zoom_start=10)\n",
    "colormap = {0.0: 'pink', 0.3: 'blue', 0.5: 'green',  0.7: 'yellow', 1.0: 'red'}\n",
    "\n",
    "# plotting coordinates of postal code, with stopname as labels in popup\n",
    "for lat, lng, name, line in zip(latitude_sub, longitude_sub, names, lines):\n",
    "    label = 'Stop Name:{} Line:{}'.format(name,line)\n",
    "    label = folium.Popup(label)\n",
    "    folium.CircleMarker(\n",
    "        [lat, lng],\n",
    "        radius=5,\n",
    "        popup=label,\n",
    "        color='blue',\n",
    "        fill=True,\n",
    "        fill_color='#3186cc',\n",
    "        fill_opacity=0.7,\n",
    "        parse_html=True).add_to(map_ny)  \n",
    "    \n",
    "HeatMap(data, min_opacity=0.5,fill_opacity=.2,\n",
    "        max_zoom=18, \n",
    "        max_val=1.0, \n",
    "        radius=15,\n",
    "        blur=20,\n",
    "        gradient=colormap,\n",
    "        use_local_extrema=True,\n",
    "        overlay=True).add_to(map_ny)\n",
    "    \n",
    "map_ny"
   ]
  },
  {
   "cell_type": "markdown",
   "metadata": {},
   "source": [
    "# Visualization of shooting incidents YTD 2019, NYC\n"
   ]
  },
  {
   "cell_type": "code",
   "execution_count": null,
   "metadata": {},
   "outputs": [],
   "source": [
    "latitude=40.7128\n",
    "longitude=-74.006\n",
    "map_nys = folium.Map(location=[latitude, longitude], zoom_start=10)\n",
    "\n",
    "# plotting shots fired ytd 2019, with borough name as popup\n",
    "for  latshot, lonshot, boro in zip(lat_shots, lon_shots,list(shots_data.BORO) ):\n",
    "    folium.Circle(\n",
    "        [latshot,lonshot],\n",
    "        radius=5,\n",
    "        popup=boro,\n",
    "        color='crimson',\n",
    "        fill=False).add_to(map_nys)\n",
    "\n",
    "\n",
    "map_nys"
   ]
  },
  {
   "cell_type": "code",
   "execution_count": null,
   "metadata": {},
   "outputs": [],
   "source": []
  },
  {
   "cell_type": "markdown",
   "metadata": {},
   "source": [
    "# Density Based Clustering to split shooting incident data into distinct spatial areas"
   ]
  },
  {
   "cell_type": "code",
   "execution_count": null,
   "metadata": {},
   "outputs": [],
   "source": [
    "## using DBSCN to visualize shooting incidents\n",
    "from sklearn.cluster import DBSCAN\n",
    "import sklearn.utils\n",
    "from sklearn.preprocessing import StandardScaler\n",
    "sklearn.utils.check_random_state(1000)\n",
    "Clus_dataSet = shots_data[['Latitude','Longitude']]\n",
    "Clus_dataSet = np.nan_to_num(Clus_dataSet)\n",
    "Clus_dataSet = StandardScaler().fit_transform(Clus_dataSet)"
   ]
  },
  {
   "cell_type": "code",
   "execution_count": null,
   "metadata": {},
   "outputs": [],
   "source": [
    "db = DBSCAN(eps=.30, min_samples=55).fit(Clus_dataSet)\n",
    "core_samples_mask = np.zeros_like(db.labels_, dtype=bool)\n",
    "core_samples_mask[db.core_sample_indices_] = True\n",
    "labels = db.labels_\n",
    "shotsloc[\"Clus_Db\"]=labels\n",
    "\n",
    "realClusterNum=len(set(labels)) - (1 if -1 in labels else 0)\n",
    "clusterNum = len(set(labels)) \n",
    "\n",
    "shotsloc.Clus_Db.unique()"
   ]
  },
  {
   "cell_type": "code",
   "execution_count": null,
   "metadata": {},
   "outputs": [],
   "source": [
    "map_clusters = folium.Map(location=[latitude, longitude], zoom_start=11)\n",
    "\n",
    "x = np.arange(-1,4)\n",
    "ys = [i + x + (i*x)**2 for i in range(5)]\n",
    "colors_array = cm.rainbow(np.linspace(0, 1, len(ys)))\n",
    "rainbow = [colors.rgb2hex(i) for i in colors_array]\n",
    "\n",
    "markers_colors = []\n",
    "for lat, lon, cluster in zip(shotsloc['Latitude'], shotsloc['Longitude'], shotsloc['Clus_Db']):\n",
    "    label = folium.Popup(str(' Cluster ' + str(cluster)))\n",
    "    folium.CircleMarker(\n",
    "        [lat, lon],\n",
    "        radius=5,\n",
    "        popup=label,\n",
    "        color=rainbow[cluster-1],\n",
    "        fill=True,\n",
    "        fill_color=rainbow[cluster-1],\n",
    "        fill_opacity=0.7).add_to(map_clusters)\n",
    "map_clusters"
   ]
  },
  {
   "cell_type": "markdown",
   "metadata": {},
   "source": [
    "### Looking at the above data we see that while the algorithm was able to pick up several neighborhoods such as the north of Manhattan, the Bronx, and Brooklyn, we can clearly see that the resolution is not enough to show distinct neighborhoods. In Manhattan, Washington Heights and Harlem get grouped together, and in Brooklyn Bed-Stuy, Bushwick and Crown Heights are all in the same cluster."
   ]
  },
  {
   "cell_type": "markdown",
   "metadata": {},
   "source": [
    "# Density based clustering on arrest records "
   ]
  },
  {
   "cell_type": "code",
   "execution_count": null,
   "metadata": {},
   "outputs": [],
   "source": [
    "#Double DBSCAN on manhattan\n",
    "latitude=40.7128\n",
    "longitude=-74.006\n",
    "Clus_arrestSet = arrestloc[['Latitude','Longitude']]\n",
    "Clus_arrestSet = np.nan_to_num(Clus_arrestSet)\n",
    "Clus_arrestSet = StandardScaler().fit_transform(Clus_arrestSet)\n",
    "\n",
    "# Compute DBSCAN #eps=.1, min =750,|||eps=.075, min_samples=200\n",
    "# best cluster: db = DBSCAN(eps=.075, min_samples=150).fit(Clus_dataSet)\n",
    "db = DBSCAN(eps=.075, min_samples=150).fit(Clus_arrestSet)\n",
    "core_samples_mask = np.zeros_like(db.labels_, dtype=bool)\n",
    "core_samples_mask[db.core_sample_indices_] = True\n",
    "labels = db.labels_\n",
    "arrestloc[\"Clus_Db\"]=labels\n",
    "\n",
    "realClusterNum=len(set(labels)) - (1 if -1 in labels else 0)\n",
    "clusterNum = len(set(labels)) \n",
    "\n",
    "arrestloc.Clus_Db.unique()"
   ]
  },
  {
   "cell_type": "code",
   "execution_count": null,
   "metadata": {},
   "outputs": [],
   "source": [
    "nyc_clusters = folium.Map(location=[latitude, longitude], zoom_start=11)\n",
    "\n",
    "x = np.arange(-1,38)\n",
    "ys = [i + x + (i*x)**2 for i in range(39)]\n",
    "colors_array = cm.rainbow(np.linspace(0, 1, len(ys)))\n",
    "rainbow = [colors.rgb2hex(i) for i in colors_array]\n",
    "\n",
    "markers_colors = []\n",
    "for lat, lon, cluster in zip(arrestloc['Latitude'], arrestloc['Longitude'], arrestloc['Clus_Db']):\n",
    "    label = folium.Popup(str(' Cluster ' + str(cluster)))\n",
    "    folium.CircleMarker(\n",
    "        [lat, lon],\n",
    "        radius=5,\n",
    "        popup=label,\n",
    "        color=rainbow[cluster-1],\n",
    "        fill=True,\n",
    "        fill_color=rainbow[cluster-1],\n",
    "        fill_opacity=0.7).add_to(nyc_clusters)\n",
    "nyc_clusters"
   ]
  },
  {
   "cell_type": "code",
   "execution_count": null,
   "metadata": {},
   "outputs": [],
   "source": []
  },
  {
   "cell_type": "markdown",
   "metadata": {},
   "source": [
    "### We can see that there are several areas standing out in the cluster, however there is not enough resolution to deal with Manhattan, therefore we will run DBSCAN on it again"
   ]
  },
  {
   "cell_type": "code",
   "execution_count": null,
   "metadata": {},
   "outputs": [],
   "source": [
    "map_ny1 = folium.Map(location=[latitude, longitude], zoom_start=10)\n",
    "\n",
    "manhattan=arrestloc[arrestloc['Clus_Db']==2]\n",
    "\n",
    "# plotting coordinates of postal code, with stopname as labels in popup\n",
    "for lat, lng, crime in zip(manhattan.Latitude.to_list(), manhattan.Longitude.to_list(), manhattan.OFNS_DESC.to_list()):\n",
    "    label = 'Crime:{}'.format(crime)\n",
    "    label = folium.Popup(label)\n",
    "    folium.CircleMarker(\n",
    "        [lat, lng],\n",
    "        radius=5,\n",
    "        popup=label,\n",
    "        color='blue',\n",
    "        fill=True,\n",
    "        fill_color='#3186cc',\n",
    "        fill_opacity=0.7,\n",
    "        parse_html=True).add_to(map_ny1)  \n",
    "    \n",
    "map_ny1"
   ]
  },
  {
   "cell_type": "code",
   "execution_count": null,
   "metadata": {},
   "outputs": [],
   "source": [
    "manhattan=arrestloc[arrestloc['Clus_Db']==2]\n"
   ]
  },
  {
   "cell_type": "code",
   "execution_count": null,
   "metadata": {},
   "outputs": [],
   "source": [
    "## DBSCAN values are eps=.1 and min samples = 200\n",
    "Clus_dataSet2 = manhattan[['Latitude','Longitude']]\n",
    "Clus_dataSet2 = np.nan_to_num(Clus_dataSet2)\n",
    "Clus_dataSet2 = StandardScaler().fit_transform(Clus_dataSet2)\n",
    "db = DBSCAN(eps=.1, min_samples=200).fit(Clus_dataSet2)\n",
    "core_samples_mask = np.zeros_like(db.labels_, dtype=bool)\n",
    "core_samples_mask[db.core_sample_indices_] = True\n",
    "labels = db.labels_\n",
    "manhattan[\"Clus_Db_second\"]=labels\n",
    "\n",
    "realClusterNum=len(set(labels)) - (1 if -1 in labels else 0)\n",
    "clusterNum = len(set(labels)) \n",
    "manhattan.Clus_Db_second.unique()\n"
   ]
  },
  {
   "cell_type": "markdown",
   "metadata": {},
   "source": [
    "# Manhattan split\n",
    "\n"
   ]
  },
  {
   "cell_type": "code",
   "execution_count": null,
   "metadata": {},
   "outputs": [],
   "source": [
    "man_clusters = folium.Map(location=[latitude, longitude], zoom_start=11)\n",
    "\n",
    "# set color scheme for the clusters\n",
    "x = np.arange(-1,14)\n",
    "ys = [i + x + (i*x)**2 for i in range(15)]\n",
    "colors_array = cm.rainbow(np.linspace(0, 1, len(ys)))\n",
    "rainbow = [colors.rgb2hex(i) for i in colors_array]\n",
    "\n",
    "# add markers to the map\n",
    "markers_colors = []\n",
    "for lat, lon, cluster in zip(manhattan['Latitude'], manhattan['Longitude'], manhattan['Clus_Db_second']):\n",
    "    label = folium.Popup(str(' Cluster ' + str(cluster)))\n",
    "    folium.CircleMarker(\n",
    "        [lat, lon],\n",
    "        radius=5,\n",
    "        popup=label,\n",
    "        color=rainbow[cluster-1],\n",
    "        fill=True,\n",
    "        fill_color=rainbow[cluster-1],\n",
    "        fill_opacity=0.7).add_to(man_clusters)\n",
    "man_clusters"
   ]
  },
  {
   "cell_type": "code",
   "execution_count": null,
   "metadata": {},
   "outputs": [],
   "source": []
  },
  {
   "cell_type": "code",
   "execution_count": null,
   "metadata": {},
   "outputs": [],
   "source": [
    "\n",
    "manhattanzoom=manhattan[manhattan['Clus_Db_second']==0]\n",
    "Clus_dataSet3 = manhattanzoom[['Latitude','Longitude']]\n",
    "Clus_dataSet3 = np.nan_to_num(Clus_dataSet3)\n",
    "Clus_dataSet3 = StandardScaler().fit_transform(Clus_dataSet3)\n",
    "db = DBSCAN(eps=.25, min_samples=100).fit(Clus_dataSet3)\n",
    "core_samples_mask = np.zeros_like(db.labels_, dtype=bool)\n",
    "core_samples_mask[db.core_sample_indices_] = True\n",
    "labels = db.labels_\n",
    "manhattanzoom[\"Clus_Db_third\"]=labels\n",
    "\n",
    "realClusterNum=len(set(labels)) - (1 if -1 in labels else 0)\n",
    "clusterNum = len(set(labels)) \n",
    "manhattanzoom.Clus_Db_third.unique()\n",
    "##eps=.2 min samples=100"
   ]
  },
  {
   "cell_type": "code",
   "execution_count": null,
   "metadata": {},
   "outputs": [],
   "source": [
    "man_clusters_zoom = folium.Map(location=[latitude, longitude], zoom_start=12)\n",
    "\n",
    "# set color scheme for the clusters\n",
    "x = np.arange(-1,8)\n",
    "ys = [i + x + (i*x)**2 for i in range(9)]\n",
    "colors_array = cm.rainbow(np.linspace(0, 1, len(ys)))\n",
    "rainbow = [colors.rgb2hex(i) for i in colors_array]\n",
    "\n",
    "# add markers to the map\n",
    "markers_colors = []\n",
    "for lat, lon, cluster in zip(manhattanzoom['Latitude'], manhattanzoom['Longitude'], manhattanzoom['Clus_Db_third']):\n",
    "    label = folium.Popup(str(' Cluster ' + str(cluster)))\n",
    "    folium.CircleMarker(\n",
    "        [lat, lon],\n",
    "        radius=5,\n",
    "        popup=label,\n",
    "        color=rainbow[cluster-1],\n",
    "        fill=True,\n",
    "        fill_color=rainbow[cluster-1],\n",
    "        fill_opacity=0.7).add_to(man_clusters_zoom)\n",
    "man_clusters_zoom"
   ]
  },
  {
   "cell_type": "markdown",
   "metadata": {},
   "source": [
    "# Picking Stops to explore with Foursquare , based on visual inspection of heatmap"
   ]
  },
  {
   "cell_type": "code",
   "execution_count": null,
   "metadata": {},
   "outputs": [],
   "source": [
    "dataff = {'Name':names, 'Line':lines,'Latitude':latitude_sub,'Longitude':longitude_sub} \n",
    "subway=pd.DataFrame(dataff)\n",
    "subway=subway.dropna()\n",
    "\n",
    "subway"
   ]
  },
  {
   "cell_type": "code",
   "execution_count": null,
   "metadata": {},
   "outputs": [],
   "source": [
    "canal=subway[subway[\"Name\"].str.contains('canal',case=False)]\n",
    "fourteenth=subway[subway[\"Name\"].str.contains('14th',case=False)]\n",
    "Penn=subway[subway[\"Name\"].str.contains('34th',case=False)]\n",
    "eightsix=subway[subway[\"Name\"].str.contains('Lexington Ave & 86th',case=False)]\n",
    "broadway=subway[subway[\"Name\"].str.contains('Broadway & 96th',case=False)]\n",
    "harlem=subway[subway[\"Name\"].str.contains('Lexington Ave & 125th',case=False)]\n",
    "jerome=subway[subway[\"Name\"].str.contains('Jerome Ave & 170th',case=False)]\n",
    "gc=subway[subway[\"Name\"].str.contains('Grand Concourse & Fordham',case=False)]\n",
    "fdr=subway[subway[\"Name\"].str.contains('Junction Blvd & Roosevelt',case=False)]\n",
    "hillside=subway[subway[\"Name\"].str.contains('169th st & Hillside',case=False)]\n",
    "flushing=subway[subway[\"Name\"].str.contains('Flushing Ave & Broadway',case=False)]\n",
    "hoyt=subway[subway[\"Name\"].str.contains('Hoyt st & Fulton',case=False)]\n",
    "nostrand=subway[subway[\"Name\"].str.contains('nostrand ave & avenue h',case=False)]\n",
    "beach=subway[subway[\"Name\"].str.contains('Beach 22nd St & Mott Av',case=False)]\n",
    "surf=subway[subway[\"Name\"].str.contains('Stillwell ave & surf ave',case=False)]\n",
    "\n",
    "#arrestloc=arrest_data[['Latitude','Longitude']]"
   ]
  },
  {
   "cell_type": "code",
   "execution_count": null,
   "metadata": {},
   "outputs": [],
   "source": []
  },
  {
   "cell_type": "code",
   "execution_count": null,
   "metadata": {},
   "outputs": [],
   "source": [
    "stations=(canal, fourteenth,Penn,eightsix,broadway,harlem,jerome,gc,fdr,hillside,flushing,hoyt,nostrand,beach,surf)\n",
    "crimestops = folium.Map(location=[latitude, longitude], zoom_start=12)\n",
    "POI=[]\n",
    "for station in stations:\n",
    "    label = folium.Popup(stations[0])\n",
    "    \n",
    "    folium.CircleMarker(\n",
    "        [(sum(station.Latitude)/len(station.Latitude)), (sum(station.Longitude)/len(station.Longitude))],\n",
    "        radius=5,\n",
    "        popup=label,\n",
    "        \n",
    "        fill=True,\n",
    "        fill_opacity=0.7).add_to(crimestops)\n",
    "crimestops\n",
    "    "
   ]
  },
  {
   "cell_type": "code",
   "execution_count": null,
   "metadata": {},
   "outputs": [],
   "source": [
    "sum(canal.Latitude)/len(canal.Latitude)"
   ]
  },
  {
   "cell_type": "code",
   "execution_count": null,
   "metadata": {},
   "outputs": [],
   "source": [
    "stations[0].Name\n",
    "\n"
   ]
  },
  {
   "cell_type": "code",
   "execution_count": null,
   "metadata": {},
   "outputs": [],
   "source": []
  },
  {
   "cell_type": "code",
   "execution_count": null,
   "metadata": {},
   "outputs": [],
   "source": []
  },
  {
   "cell_type": "code",
   "execution_count": null,
   "metadata": {},
   "outputs": [],
   "source": []
  },
  {
   "cell_type": "code",
   "execution_count": null,
   "metadata": {},
   "outputs": [],
   "source": []
  }
 ],
 "metadata": {
  "kernelspec": {
   "display_name": "Python 3",
   "language": "python",
   "name": "python3"
  },
  "language_info": {
   "codemirror_mode": {
    "name": "ipython",
    "version": 3
   },
   "file_extension": ".py",
   "mimetype": "text/x-python",
   "name": "python",
   "nbconvert_exporter": "python",
   "pygments_lexer": "ipython3",
   "version": "3.7.3"
  }
 },
 "nbformat": 4,
 "nbformat_minor": 4
}
