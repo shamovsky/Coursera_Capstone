{
 "cells": [
  {
   "cell_type": "markdown",
   "metadata": {},
   "source": [
    "# Where in Jerusalem is it best to build a night club/bar?\n",
    "\n"
   ]
  },
  {
   "cell_type": "markdown",
   "metadata": {},
   "source": [
    "    Jerusalem is an important and hub city for almost half of the world population. As a holy city for Christians, Muslims and Jews, it is a city that is often visited by many religious organizations, as well as people wanting to see a living and breathing bit of history. Israel, being a Jewish state, observes the laws of the Sabbath nationwide, meaning that no business or public transport are to operate for 25 hours between sundown Friday and sundown Saturday. Naturally, this poses a problem to the less religious folk who don't observe the Sabbath, whether they are locals or visiting. This is a problem nationwide but can be felt most in the holiest of holy cities. Many a times visitors find themselves staying in an area of the city, with a free evening but nothing around them to indulge in as everything is closed. My proposal is to examine Jerusalem's neighbourhoods, and group them by the amount of bars, nightlife, and what Foursquare labels as \"fun\" is in it. \n",
    "   \n",
    "    This can have several implications. If we see that a certain area is lacking in bars, it could potentially be a viable area to start a new business, depending on data regarding which neighbourhood it is in, specifically if it is religious or not. A religious neighbourhood would not allow the building of a facility that makes noise at night and whose main hours of operation are on the weeked, during the Sabbath. Conversely, we can examine areas where there is a large cluster of bars and see if it is viable to open food or taxi services, depending on the amount in the area.\n",
    "    \n",
    "    Lastly, we will compare the nieghbourhoods of Jerusalem to those of Reykjavik, Iceland, for fun and see what we find. I expect Reykjavik to have a higher frequency of nightlife and bars than Jerusalem, despite it being such a remote geographical city."
   ]
  },
  {
   "cell_type": "markdown",
   "metadata": {},
   "source": [
    "# Data to be used"
   ]
  },
  {
   "cell_type": "markdown",
   "metadata": {},
   "source": [
    "   ### The data we will use will be foursquare, wikipedia, and hopefully Israeli Census Bureau.\n",
    "    \n",
    "    \n",
    "    https://en.wikipedia.org/wiki/Category:Neighbourhoods_of_Jerusalem - This page has a list of the neighbourhoods in Jerusalem, and conveniently an option to download a KML file of the coordinates, which is great.The page above also has subcategories pertaining to Jerusalems Orthodox Jewish Communites, which we will use as communities where bars and nightlife shall not be built. We can also incorporate real estate data into our analysis.\n",
    "    \n",
    "    The Districts of Reykjavik can be found here: https://en.wikipedia.org/wiki/Reykjav%C3%ADk#Districts\n",
    "    and we will contruct a data frame of the districts and their coordinates that will be searched up individually.\n",
    "    \n",
    "    The methods will be similar to the projects on Toronto and New York, we will use the k-means clustering technique to draw relevant conclusions about the data. Lastly, we will plot each neighbourhoods top 10 venues in Jerusalem and Reykjavik and see what we get.\n",
    "    \n",
    "    \n",
    "    \n",
    "   "
   ]
  },
  {
   "cell_type": "code",
   "execution_count": null,
   "metadata": {},
   "outputs": [],
   "source": []
  }
 ],
 "metadata": {
  "kernelspec": {
   "display_name": "Python 3",
   "language": "python",
   "name": "python3"
  },
  "language_info": {
   "codemirror_mode": {
    "name": "ipython",
    "version": 3
   },
   "file_extension": ".py",
   "mimetype": "text/x-python",
   "name": "python",
   "nbconvert_exporter": "python",
   "pygments_lexer": "ipython3",
   "version": "3.7.3"
  }
 },
 "nbformat": 4,
 "nbformat_minor": 2
}
