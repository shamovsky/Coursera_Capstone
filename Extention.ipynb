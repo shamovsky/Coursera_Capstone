{
 "cells": [
  {
   "cell_type": "markdown",
   "metadata": {},
   "source": [
    "# An extension of the project for DBSCAN, OPTICS and such\n"
   ]
  },
  {
   "cell_type": "code",
   "execution_count": null,
   "metadata": {},
   "outputs": [],
   "source": [
    "## using DBSCN to visualize crime\n",
    "from sklearn.cluster import DBSCAN\n",
    "import sklearn.utils\n",
    "from sklearn.preprocessing import StandardScaler\n",
    "sklearn.utils.check_random_state(1000)\n",
    "Clus_dataSet = arrestloc[['Latitude','Longitude']]\n",
    "Clus_dataSet = np.nan_to_num(Clus_dataSet)\n",
    "Clus_dataSet = StandardScaler().fit_transform(Clus_dataSet)\n",
    "\n",
    "# Compute DBSCAN #eps=.1, min =750,|||eps=.075, min_samples=200\n",
    "# best cluster: db = DBSCAN(eps=.075, min_samples=150).fit(Clus_dataSet)\n",
    "db = DBSCAN(eps=.075, min_samples=150).fit(Clus_dataSet)\n",
    "core_samples_mask = np.zeros_like(db.labels_, dtype=bool)\n",
    "core_samples_mask[db.core_sample_indices_] = True\n",
    "labels = db.labels_\n",
    "arrestloc[\"Clus_Db\"]=labels\n",
    "\n",
    "realClusterNum=len(set(labels)) - (1 if -1 in labels else 0)\n",
    "clusterNum = len(set(labels)) \n",
    "\n",
    "arrestloc.Clus_Db.unique()"
   ]
  },
  {
   "cell_type": "markdown",
   "metadata": {},
   "source": [
    "# Basemap"
   ]
  },
  {
   "cell_type": "code",
   "execution_count": null,
   "metadata": {},
   "outputs": [],
   "source": [
    "from mpl_toolkits.basemap import Basemap\n",
    "import matplotlib.pyplot as plt\n",
    "from pylab import rcParams\n",
    "%matplotlib inline\n",
    "rcParams['figure.figsize'] = (14,10)\n",
    "llon=-74.210\n",
    "ulon=-73.618\n",
    "llat=40.55\n",
    "ulat=42\n",
    "m = Basemap(projection='merc',llcrnrlat=40.55,urcrnrlat=40.9,\\\n",
    "            llcrnrlon=-74.1, urcrnrlon=-73.82, resolution='f', area_thresh = 0.01)\n",
    "\n",
    "\n",
    "\n",
    "m.drawmapboundary(fill_color='#85A6D9')\n",
    "m.drawcoastlines(color='#6D5F47', linewidth=.4)\n",
    "m.drawrivers(color='#6D5F47', linewidth=.2)\n",
    "m.fillcontinents(color='white',lake_color='#85A6D9')\n",
    "m.shadedrelief()\n",
    "\n",
    "xs,ys = m(np.asarray(arrestloc.Longitude), np.asarray(arrestloc.Latitude))\n",
    "arrestloc['xm']= xs.tolist()\n",
    "arrestloc['ym'] =ys.tolist()\n",
    "\n",
    "colors = plt.get_cmap('jet')(np.linspace(0.0, 1.0, clusterNum))\n",
    "    \n",
    "    \n",
    "for index,row in arrestloc.iterrows():\n",
    "    m.plot(row.xm, row.ym, markerfacecolor =([1,0,0]),  marker='o', markersize= 5, alpha = 0.75)"
   ]
  },
  {
   "cell_type": "markdown",
   "metadata": {},
   "source": [
    "# Folium Looping"
   ]
  },
  {
   "cell_type": "code",
   "execution_count": null,
   "metadata": {},
   "outputs": [],
   "source": [
    "#Single Cluster\n",
    "map_ny = folium.Map(location=[latitude, longitude], zoom_start=10)\n",
    "colormap = {0.0: 'pink', 0.3: 'blue', 0.5: 'green',  0.7: 'yellow', 1.0: 'red'}\n",
    "# A sample of clusters\n",
    "clus_8=arrestloc[arrestloc['Clus_Db']==5]\n",
    "clus_8\n",
    "# plotting coordinates of postal code, with stopname as labels in popup\n",
    "for lat, lng, crime in zip(clus_8.Latitude.to_list(), clus_8.Longitude.to_list(), clus_8.OFNS_DESC.to_list()):\n",
    "    label = 'Crime:{}'.format(crime)\n",
    "    label = folium.Popup(label)\n",
    "    folium.CircleMarker(\n",
    "        [lat, lng],\n",
    "        radius=5,\n",
    "        popup=label,\n",
    "        color='blue',\n",
    "        fill=True,\n",
    "        fill_color='#3186cc',\n",
    "        fill_opacity=0.7,\n",
    "        parse_html=True).add_to(map_ny)  \n",
    "    \n",
    "map_ny"
   ]
  },
  {
   "cell_type": "code",
   "execution_count": null,
   "metadata": {},
   "outputs": [],
   "source": [
    "#ALL CLUSTERS-WARNING THIS IS A BITCH TO RUN\n",
    "map_clusters = folium.Map(location=[latitude, longitude], zoom_start=11)\n",
    "\n",
    "# set color scheme for the clusters\n",
    "x = np.arange(-1,36)\n",
    "ys = [i + x + (i*x)**2 for i in range(36)]\n",
    "colors_array = cm.rainbow(np.linspace(0, 1, len(ys)))\n",
    "rainbow = [colors.rgb2hex(i) for i in colors_array]\n",
    "\n",
    "# add markers to the map\n",
    "markers_colors = []\n",
    "for lat, lon, cluster in zip(arrestloc['Latitude'], arrestloc['Longitude'], arrestloc['Clus_Db']):\n",
    "    label = folium.Popup(str(' Cluster ' + str(cluster)))\n",
    "    folium.CircleMarker(\n",
    "        [lat, lon],\n",
    "        radius=5,\n",
    "        popup=label,\n",
    "        color=rainbow[cluster-1],\n",
    "        fill=True,\n",
    "        fill_color=rainbow[cluster-1],\n",
    "        fill_opacity=0.7).add_to(map_clusters)"
   ]
  }
 ],
 "metadata": {
  "kernelspec": {
   "display_name": "Python 3",
   "language": "python",
   "name": "python3"
  },
  "language_info": {
   "codemirror_mode": {
    "name": "ipython",
    "version": 3
   },
   "file_extension": ".py",
   "mimetype": "text/x-python",
   "name": "python",
   "nbconvert_exporter": "python",
   "pygments_lexer": "ipython3",
   "version": "3.7.3"
  }
 },
 "nbformat": 4,
 "nbformat_minor": 4
}
